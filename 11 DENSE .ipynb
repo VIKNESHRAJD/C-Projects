{
 "cells": [
  {
   "cell_type": "code",
   "execution_count": 1,
   "id": "1be24a58-3bc6-4aad-b613-4ede5efbfd50",
   "metadata": {},
   "outputs": [],
   "source": [
    "import cv2\n",
    "import numpy as np\n",
    "\n",
    "# Replace 'input_video.mp4' with the path to your video file\n",
    "video_path = 'Messi.mp4'\n",
    "cap = cv2.VideoCapture(video_path)\n",
    "\n",
    "# Reading the first frame and converting to grayscale\n",
    "ret, frame = cap.read()\n",
    "if not ret:\n",
    "    print(\"Error: Could not read the first frame.\")\n",
    "    exit()\n",
    "\n",
    "prv = cv2.cvtColor(frame, cv2.COLOR_BGR2GRAY)\n",
    "\n",
    "# Initialize the HSV image to visualize optical flow\n",
    "hsv = np.zeros_like(frame)\n",
    "hsv[..., 1] = 255  # Set saturation to max\n",
    "\n",
    "# Loop for calculating dense optical flow\n",
    "while True:\n",
    "    ret, frame = cap.read()\n",
    "    if not ret:\n",
    "        print(\"Error: Could not read the frame.\")\n",
    "        break\n",
    "\n",
    "    next_frame = cv2.cvtColor(frame, cv2.COLOR_BGR2GRAY)\n",
    "\n",
    "    # Calculate the dense optical flow using Farneback method\n",
    "    flow = cv2.calcOpticalFlowFarneback(prv, next_frame, None, 0.5, 3, 15, 3, 5, 1.2, 0)\n",
    "\n",
    "    # Convert the flow to magnitude and angle\n",
    "    mag, ang = cv2.cartToPolar(flow[..., 0], flow[..., 1])\n",
    "\n",
    "    # Visualize the optical flow\n",
    "    hsv[..., 0] = ang * 180 / np.pi / 2  # Angle to hue\n",
    "    hsv[..., 2] = cv2.normalize(mag, None, 0, 255, cv2.NORM_MINMAX)  # Magnitude to value\n",
    "\n",
    "    # Convert HSV to BGR for displaying\n",
    "    rgb = cv2.cvtColor(hsv, cv2.COLOR_HSV2BGR)\n",
    "\n",
    "    # Show the frame with optical flow visualization\n",
    "    cv2.imshow('Optical Flow', rgb)\n",
    "\n",
    "    # Update the previous frame\n",
    "    prv = next_frame\n",
    "\n",
    "    # Break the loop on pressing the 'Esc' key\n",
    "    k = cv2.waitKey(30) & 0xFF\n",
    "    if k == 27:  # ESC key to exit\n",
    "        break\n",
    "\n",
    "# Release the video capture object\n",
    "cap.release()\n",
    "\n",
    "# Close all OpenCV windows\n",
    "cv2.destroyAllWindows()\n"
   ]
  },
  {
   "cell_type": "code",
   "execution_count": null,
   "id": "49df45c6-73b3-447f-973c-e40d8fe3b526",
   "metadata": {},
   "outputs": [],
   "source": []
  }
 ],
 "metadata": {
  "kernelspec": {
   "display_name": "Python 3 (ipykernel)",
   "language": "python",
   "name": "python3"
  },
  "language_info": {
   "codemirror_mode": {
    "name": "ipython",
    "version": 3
   },
   "file_extension": ".py",
   "mimetype": "text/x-python",
   "name": "python",
   "nbconvert_exporter": "python",
   "pygments_lexer": "ipython3",
   "version": "3.12.4"
  }
 },
 "nbformat": 4,
 "nbformat_minor": 5
}
