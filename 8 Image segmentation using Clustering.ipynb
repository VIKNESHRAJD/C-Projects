{
 "cells": [
  {
   "cell_type": "code",
   "execution_count": 2,
   "id": "f52d2b51-bb2a-4663-a1d1-cecddceeb420",
   "metadata": {},
   "outputs": [],
   "source": [
    "# Import necessary libraries \n",
    "import cv2 \n",
    "import numpy as np \n",
    " \n",
    "# Load an image from file \n",
    "image = cv2.imread(\"FCB.jpg\") \n",
    " \n",
    "# RGB conversion \n",
    "img_rgb = cv2.cvtColor(image, cv2.COLOR_BGR2RGB) \n",
    " \n",
    "# Reshaping image \n",
    "img_res = img_rgb.reshape((-1, 3)) \n",
    " \n",
    "# Datatype Conversion \n",
    "vec = np.float32(img_res) \n",
    " \n",
    "# Iteration Termination Criteria \n",
    "crit = (cv2.TERM_CRITERIA_EPS + cv2.TERM_CRITERIA_MAX_ITER, 1000, 0.2) \n",
    "\n",
    "# Cluster Initiation \n",
    "k = 3 \n",
    "attempts = 10 \n",
    "\n",
    "# K-Means clustering \n",
    "ret, labels, center = cv2.kmeans(vec, k, None, crit, attempts, cv2.KMEANS_RANDOM_CENTERS) \n",
    "\n",
    "# Unit Clustering \n",
    "center = np.uint8(center) \n",
    "\n",
    "# Flattening and Reshaping \n",
    "img_seg = center[labels.flatten()] \n",
    "img_seg = img_seg.reshape((image.shape))  # Corrected to use 'image.shape' instead of 'img.shape'\n",
    "\n",
    "# Display Original and Segmented Image \n",
    "cv2.imshow('Original Image', image) \n",
    "cv2.imshow('Segmented Image', img_seg) \n",
    "\n",
    "if cv2.waitKey(0) & 0xFF == 27: \n",
    "   cv2.destroyAllWindows()"
   ]
  },
  {
   "cell_type": "code",
   "execution_count": null,
   "id": "c197c443-f71f-44f7-a598-b397cc93cf07",
   "metadata": {},
   "outputs": [],
   "source": []
  }
 ],
 "metadata": {
  "kernelspec": {
   "display_name": "Python 3 (ipykernel)",
   "language": "python",
   "name": "python3"
  },
  "language_info": {
   "codemirror_mode": {
    "name": "ipython",
    "version": 3
   },
   "file_extension": ".py",
   "mimetype": "text/x-python",
   "name": "python",
   "nbconvert_exporter": "python",
   "pygments_lexer": "ipython3",
   "version": "3.12.4"
  }
 },
 "nbformat": 4,
 "nbformat_minor": 5
}
