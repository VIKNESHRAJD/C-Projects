{
 "cells": [
  {
   "cell_type": "code",
   "execution_count": 3,
   "id": "84967559-8cef-4d98-9bae-ccc04d779b0b",
   "metadata": {},
   "outputs": [],
   "source": [
    "# Import necessary libraries \n",
    "import cv2 \n",
    "# Load an image from file \n",
    "image = cv2.imread(\"FCB.jpg\") \n",
    "# Convert the image to the required format for Mean Shift \n",
    "# Define parameters for Mean Shift \n",
    "spatial_radius = 10 \n",
    "color_radius = 20 \n",
    "max_pyramid_level = 2 \n",
    "\n",
    "# Apply Mean Shift algorithm for segmentation \n",
    "shifted_image = cv2.pyrMeanShiftFiltering(image, sp=spatial_radius, \n",
    "sr=color_radius, maxLevel=max_pyramid_level) \n",
    "\n",
    "# Display the original and segmented images \n",
    "cv2.imshow(\"Original Image\", image) \n",
    "cv2.imshow(\"Mean Shift Segmented Image\", shifted_image) \n",
    "\n",
    "# Wait for a key press to close the window \n",
    "cv2.waitKey(0) \n",
    "# Close OpenCV window \n",
    "cv2.destroyAllWindows()"
   ]
  },
  {
   "cell_type": "code",
   "execution_count": null,
   "id": "15373d20-0359-4d75-a808-f08108e67172",
   "metadata": {},
   "outputs": [],
   "source": []
  }
 ],
 "metadata": {
  "kernelspec": {
   "display_name": "Python 3 (ipykernel)",
   "language": "python",
   "name": "python3"
  },
  "language_info": {
   "codemirror_mode": {
    "name": "ipython",
    "version": 3
   },
   "file_extension": ".py",
   "mimetype": "text/x-python",
   "name": "python",
   "nbconvert_exporter": "python",
   "pygments_lexer": "ipython3",
   "version": "3.12.4"
  }
 },
 "nbformat": 4,
 "nbformat_minor": 5
}
